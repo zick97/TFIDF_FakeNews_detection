{
 "cells": [
  {
   "cell_type": "markdown",
   "metadata": {},
   "source": [
    "### 2. Training\n",
    "In this notebook, we proceed with the **training** of our classification algorithm, exploiting both news titles and texts.\n",
    "\n",
    "#### 2.1 Simple title-text combination\n",
    "First of all, we create a new column, called `combined`, in which we enter the titles and texts in succession. This is a very simple and seemingly naive way of combining information: we will compare it with other techniques later."
   ]
  },
  {
   "cell_type": "code",
   "execution_count": 32,
   "metadata": {},
   "outputs": [],
   "source": [
    "# Import the necessary libraries and the data\n",
    "import pandas as pd\n",
    "from sklearn.feature_extraction.text import TfidfVectorizer\n",
    "\n",
    "# Load the data and create the combined column\n",
    "def fetch_data(name=''):\n",
    "    df = pd.read_csv('processed_data/'+name, index_col=0)\n",
    "    df.reset_index(drop=True, inplace=True)\n",
    "    if 'title' in df.columns:\n",
    "        df['combined'] = df['title'] + ' ' + df['text']\n",
    "    return df\n",
    "\n",
    "X_train = fetch_data('X_train.csv')\n",
    "X_test = fetch_data('X_test.csv')\n",
    "y_train = fetch_data('y_train.csv')\n",
    "y_test = fetch_data('y_test.csv')"
   ]
  },
  {
   "cell_type": "markdown",
   "metadata": {},
   "source": [
    "We now transform the combined texts according to the TFIDF value, described in the previous notebook. To do so, we use Scikit Learn's `TfidfVectorizer` function, where we set `max_features=10000`, meaning that we will build a vocabulary that only consider the top `max_features` ordered by term frequency across the corpus, and `ngram_range=(1,2)`, meaning that we will consider both unigrams (`n=1`) and bigrams (`n=2`) in the transformation."
   ]
  },
  {
   "cell_type": "markdown",
   "metadata": {},
   "source": [
    "*For some weird reason, some of the texts and titles result in null values. We fix this issue by simply removing these values from the dataframe, since it's a matter of just 30 items.*"
   ]
  },
  {
   "cell_type": "code",
   "execution_count": 33,
   "metadata": {},
   "outputs": [],
   "source": [
    "# Remove null values from the data\n",
    "X_train.dropna(inplace=True)\n",
    "X_test.dropna(inplace=True)\n",
    "# Remove the same rows from the target labels\n",
    "y_train = y_train[y_train.index.isin(X_train.index)]\n",
    "y_test = y_test[y_test.index.isin(X_test.index)]\n",
    "\n",
    "# Reset the indexes\n",
    "X_train.reset_index(drop=True, inplace=True)\n",
    "X_test.reset_index(drop=True, inplace=True)\n",
    "y_train.reset_index(drop=True, inplace=True)\n",
    "y_test.reset_index(drop=True, inplace=True)"
   ]
  },
  {
   "cell_type": "code",
   "execution_count": 34,
   "metadata": {},
   "outputs": [],
   "source": [
    "# Initialize the TF-IDF Vectorizer\n",
    "tfidf = TfidfVectorizer(max_features=10000, ngram_range=(1, 2))\n",
    "\n",
    "# Fit and transform the training data, transform the test data\n",
    "X_train_tfidf = tfidf.fit_transform(X_train['combined'])\n",
    "X_test_tfidf = tfidf.transform(X_test['combined'])"
   ]
  },
  {
   "cell_type": "code",
   "execution_count": 35,
   "metadata": {},
   "outputs": [
    {
     "name": "stdout",
     "output_type": "stream",
     "text": [
      "alabama session back trump immigration platform donald trump received key endorsement immigration platform jeff session one strongest proponent congress restricting immigration\n",
      "  (0, 4577)\t0.26831219187468813\n",
      "  (0, 2544)\t0.09955434092885453\n",
      "  (0, 665)\t0.25382900245691525\n",
      "  (0, 1737)\t0.12676303232737254\n",
      "  (0, 6874)\t0.25106127867870426\n",
      "  (0, 8497)\t0.21787397794922267\n",
      "  (0, 6016)\t0.0657647962870892\n",
      "  (0, 4576)\t0.21007504676792724\n",
      "  (0, 2838)\t0.1947695666962833\n",
      "  (0, 4707)\t0.1339183466853167\n",
      "  (0, 7137)\t0.15398711918120767\n",
      "  (0, 2543)\t0.0981256974203577\n",
      "  (0, 6499)\t0.35814031846670547\n",
      "  (0, 4219)\t0.4672734841319892\n",
      "  (0, 9135)\t0.17860325416070963\n",
      "  (0, 661)\t0.09169737928779985\n",
      "  (0, 7946)\t0.38316385846363865\n",
      "  (0, 245)\t0.23601067449602556\n",
      "\n"
     ]
    }
   ],
   "source": [
    "# Take a look at the structure of the data\n",
    "print(X_train['combined'][0])\n",
    "print(X_train_tfidf[0])\n",
    "print()"
   ]
  },
  {
   "cell_type": "code",
   "execution_count": 36,
   "metadata": {},
   "outputs": [
    {
     "data": {
      "text/html": [
       "<style>#sk-container-id-5 {color: black;background-color: white;}#sk-container-id-5 pre{padding: 0;}#sk-container-id-5 div.sk-toggleable {background-color: white;}#sk-container-id-5 label.sk-toggleable__label {cursor: pointer;display: block;width: 100%;margin-bottom: 0;padding: 0.3em;box-sizing: border-box;text-align: center;}#sk-container-id-5 label.sk-toggleable__label-arrow:before {content: \"▸\";float: left;margin-right: 0.25em;color: #696969;}#sk-container-id-5 label.sk-toggleable__label-arrow:hover:before {color: black;}#sk-container-id-5 div.sk-estimator:hover label.sk-toggleable__label-arrow:before {color: black;}#sk-container-id-5 div.sk-toggleable__content {max-height: 0;max-width: 0;overflow: hidden;text-align: left;background-color: #f0f8ff;}#sk-container-id-5 div.sk-toggleable__content pre {margin: 0.2em;color: black;border-radius: 0.25em;background-color: #f0f8ff;}#sk-container-id-5 input.sk-toggleable__control:checked~div.sk-toggleable__content {max-height: 200px;max-width: 100%;overflow: auto;}#sk-container-id-5 input.sk-toggleable__control:checked~label.sk-toggleable__label-arrow:before {content: \"▾\";}#sk-container-id-5 div.sk-estimator input.sk-toggleable__control:checked~label.sk-toggleable__label {background-color: #d4ebff;}#sk-container-id-5 div.sk-label input.sk-toggleable__control:checked~label.sk-toggleable__label {background-color: #d4ebff;}#sk-container-id-5 input.sk-hidden--visually {border: 0;clip: rect(1px 1px 1px 1px);clip: rect(1px, 1px, 1px, 1px);height: 1px;margin: -1px;overflow: hidden;padding: 0;position: absolute;width: 1px;}#sk-container-id-5 div.sk-estimator {font-family: monospace;background-color: #f0f8ff;border: 1px dotted black;border-radius: 0.25em;box-sizing: border-box;margin-bottom: 0.5em;}#sk-container-id-5 div.sk-estimator:hover {background-color: #d4ebff;}#sk-container-id-5 div.sk-parallel-item::after {content: \"\";width: 100%;border-bottom: 1px solid gray;flex-grow: 1;}#sk-container-id-5 div.sk-label:hover label.sk-toggleable__label {background-color: #d4ebff;}#sk-container-id-5 div.sk-serial::before {content: \"\";position: absolute;border-left: 1px solid gray;box-sizing: border-box;top: 0;bottom: 0;left: 50%;z-index: 0;}#sk-container-id-5 div.sk-serial {display: flex;flex-direction: column;align-items: center;background-color: white;padding-right: 0.2em;padding-left: 0.2em;position: relative;}#sk-container-id-5 div.sk-item {position: relative;z-index: 1;}#sk-container-id-5 div.sk-parallel {display: flex;align-items: stretch;justify-content: center;background-color: white;position: relative;}#sk-container-id-5 div.sk-item::before, #sk-container-id-5 div.sk-parallel-item::before {content: \"\";position: absolute;border-left: 1px solid gray;box-sizing: border-box;top: 0;bottom: 0;left: 50%;z-index: -1;}#sk-container-id-5 div.sk-parallel-item {display: flex;flex-direction: column;z-index: 1;position: relative;background-color: white;}#sk-container-id-5 div.sk-parallel-item:first-child::after {align-self: flex-end;width: 50%;}#sk-container-id-5 div.sk-parallel-item:last-child::after {align-self: flex-start;width: 50%;}#sk-container-id-5 div.sk-parallel-item:only-child::after {width: 0;}#sk-container-id-5 div.sk-dashed-wrapped {border: 1px dashed gray;margin: 0 0.4em 0.5em 0.4em;box-sizing: border-box;padding-bottom: 0.4em;background-color: white;}#sk-container-id-5 div.sk-label label {font-family: monospace;font-weight: bold;display: inline-block;line-height: 1.2em;}#sk-container-id-5 div.sk-label-container {text-align: center;}#sk-container-id-5 div.sk-container {/* jupyter's `normalize.less` sets `[hidden] { display: none; }` but bootstrap.min.css set `[hidden] { display: none !important; }` so we also need the `!important` here to be able to override the default hidden behavior on the sphinx rendered scikit-learn.org. See: https://github.com/scikit-learn/scikit-learn/issues/21755 */display: inline-block !important;position: relative;}#sk-container-id-5 div.sk-text-repr-fallback {display: none;}</style><div id=\"sk-container-id-5\" class=\"sk-top-container\"><div class=\"sk-text-repr-fallback\"><pre>LogisticRegression()</pre><b>In a Jupyter environment, please rerun this cell to show the HTML representation or trust the notebook. <br />On GitHub, the HTML representation is unable to render, please try loading this page with nbviewer.org.</b></div><div class=\"sk-container\" hidden><div class=\"sk-item\"><div class=\"sk-estimator sk-toggleable\"><input class=\"sk-toggleable__control sk-hidden--visually\" id=\"sk-estimator-id-10\" type=\"checkbox\" checked><label for=\"sk-estimator-id-10\" class=\"sk-toggleable__label sk-toggleable__label-arrow\">LogisticRegression</label><div class=\"sk-toggleable__content\"><pre>LogisticRegression()</pre></div></div></div></div></div>"
      ],
      "text/plain": [
       "LogisticRegression()"
      ]
     },
     "execution_count": 36,
     "metadata": {},
     "output_type": "execute_result"
    }
   ],
   "source": [
    "# Let's train a simple logistic regression model, using the l2 penalty\n",
    "from sklearn.linear_model import LogisticRegression\n",
    "\n",
    "model = LogisticRegression()\n",
    "model.fit(X_train_tfidf, y_train['label'])"
   ]
  },
  {
   "cell_type": "code",
   "execution_count": 37,
   "metadata": {},
   "outputs": [
    {
     "name": "stdout",
     "output_type": "stream",
     "text": [
      "Accuracy: 0.919\n",
      "Classification Report:\n",
      "              precision    recall  f1-score   support\n",
      "\n",
      "           0       0.93      0.91      0.92       639\n",
      "           1       0.91      0.93      0.92       620\n",
      "\n",
      "    accuracy                           0.92      1259\n",
      "   macro avg       0.92      0.92      0.92      1259\n",
      "weighted avg       0.92      0.92      0.92      1259\n",
      "\n",
      "Confusion Matrix:\n"
     ]
    },
    {
     "data": {
      "image/png": "[encoded data removed]",
      "text/plain": [
       "<Figure size 400x400 with 2 Axes>"
      ]
     },
     "metadata": {},
     "output_type": "display_data"
    }
   ],
   "source": [
    "# Evaluate the model\n",
    "from sklearn.metrics import accuracy_score, classification_report, confusion_matrix\n",
    "\n",
    "# Predict on the test data\n",
    "y_pred = model.predict(X_test_tfidf)\n",
    "\n",
    "accuracy = accuracy_score(y_test, y_pred)\n",
    "report = classification_report(y_test, y_pred)\n",
    "conf_matrix = confusion_matrix(y_test, y_pred)\n",
    "\n",
    "print(f\"Accuracy: {round(accuracy, 3)}\")\n",
    "print(\"Classification Report:\")\n",
    "print(report)\n",
    "print(\"Confusion Matrix:\")\n",
    "\n",
    "# Plot the confusion matrix\n",
    "import matplotlib.pyplot as plt\n",
    "import seaborn as sns\n",
    "\n",
    "plt.figure(figsize=(4, 4))\n",
    "sns.heatmap(conf_matrix, annot=True)\n",
    "plt.xlabel('Predicted')\n",
    "plt.ylabel('Truth')\n",
    "plt.show();"
   ]
  },
  {
   "cell_type": "markdown",
   "metadata": {},
   "source": [
    "Let us remember how precision, recall and F1 score are defined:\n",
    "$$\\text{precision} \\triangleq \\frac{\\text{TP}}{\\text{TP}+\\text{FP}}$$\n",
    "$$\\text{recall} \\triangleq \\frac{\\text{TP}}{\\text{TP}+\\text{FN}}$$\n",
    "$$F1 \\triangleq 2 \\cdot \\frac{\\text{precision}\\cdot\\text{recall}}{\\text{precision}+\\text{recall}}$$\n",
    "These values are already very good. Precision and recall are also practically identical, so there is no need to try to set a threshold for special needs.\n",
    "\n",
    "#### 2.2 Separated models\n",
    "Before, we simply merged the title with the text: could this process have caused some inconsistency in the training points?\\\n",
    "Let us test this by separating the training, i.e. construct two classifiers: one based on titles and the other on combined texts. We cannot expect the quality of the predictions made with titles to be sufficient, so we are going to build an unbalanced \"voting\" system."
   ]
  },
  {
   "cell_type": "code",
   "execution_count": 38,
   "metadata": {},
   "outputs": [],
   "source": [
    "# Apply the TF-IDF Vectorizer to the title and text columns, separately\n",
    "tfidf_title = TfidfVectorizer(max_features=10000, ngram_range=(1, 2))\n",
    "tfidf_text = TfidfVectorizer(max_features=10000, ngram_range=(1, 2))\n",
    "\n",
    "X_train_title_tfidf = tfidf_title.fit_transform(X_train['title'])\n",
    "X_test_title_tfidf = tfidf_title.transform(X_test['title'])"
   ]
  },
  {
   "cell_type": "code",
   "execution_count": 39,
   "metadata": {},
   "outputs": [
    {
     "data": {
      "text/html": [
       "<style>#sk-container-id-6 {color: black;background-color: white;}#sk-container-id-6 pre{padding: 0;}#sk-container-id-6 div.sk-toggleable {background-color: white;}#sk-container-id-6 label.sk-toggleable__label {cursor: pointer;display: block;width: 100%;margin-bottom: 0;padding: 0.3em;box-sizing: border-box;text-align: center;}#sk-container-id-6 label.sk-toggleable__label-arrow:before {content: \"▸\";float: left;margin-right: 0.25em;color: #696969;}#sk-container-id-6 label.sk-toggleable__label-arrow:hover:before {color: black;}#sk-container-id-6 div.sk-estimator:hover label.sk-toggleable__label-arrow:before {color: black;}#sk-container-id-6 div.sk-toggleable__content {max-height: 0;max-width: 0;overflow: hidden;text-align: left;background-color: #f0f8ff;}#sk-container-id-6 div.sk-toggleable__content pre {margin: 0.2em;color: black;border-radius: 0.25em;background-color: #f0f8ff;}#sk-container-id-6 input.sk-toggleable__control:checked~div.sk-toggleable__content {max-height: 200px;max-width: 100%;overflow: auto;}#sk-container-id-6 input.sk-toggleable__control:checked~label.sk-toggleable__label-arrow:before {content: \"▾\";}#sk-container-id-6 div.sk-estimator input.sk-toggleable__control:checked~label.sk-toggleable__label {background-color: #d4ebff;}#sk-container-id-6 div.sk-label input.sk-toggleable__control:checked~label.sk-toggleable__label {background-color: #d4ebff;}#sk-container-id-6 input.sk-hidden--visually {border: 0;clip: rect(1px 1px 1px 1px);clip: rect(1px, 1px, 1px, 1px);height: 1px;margin: -1px;overflow: hidden;padding: 0;position: absolute;width: 1px;}#sk-container-id-6 div.sk-estimator {font-family: monospace;background-color: #f0f8ff;border: 1px dotted black;border-radius: 0.25em;box-sizing: border-box;margin-bottom: 0.5em;}#sk-container-id-6 div.sk-estimator:hover {background-color: #d4ebff;}#sk-container-id-6 div.sk-parallel-item::after {content: \"\";width: 100%;border-bottom: 1px solid gray;flex-grow: 1;}#sk-container-id-6 div.sk-label:hover label.sk-toggleable__label {background-color: #d4ebff;}#sk-container-id-6 div.sk-serial::before {content: \"\";position: absolute;border-left: 1px solid gray;box-sizing: border-box;top: 0;bottom: 0;left: 50%;z-index: 0;}#sk-container-id-6 div.sk-serial {display: flex;flex-direction: column;align-items: center;background-color: white;padding-right: 0.2em;padding-left: 0.2em;position: relative;}#sk-container-id-6 div.sk-item {position: relative;z-index: 1;}#sk-container-id-6 div.sk-parallel {display: flex;align-items: stretch;justify-content: center;background-color: white;position: relative;}#sk-container-id-6 div.sk-item::before, #sk-container-id-6 div.sk-parallel-item::before {content: \"\";position: absolute;border-left: 1px solid gray;box-sizing: border-box;top: 0;bottom: 0;left: 50%;z-index: -1;}#sk-container-id-6 div.sk-parallel-item {display: flex;flex-direction: column;z-index: 1;position: relative;background-color: white;}#sk-container-id-6 div.sk-parallel-item:first-child::after {align-self: flex-end;width: 50%;}#sk-container-id-6 div.sk-parallel-item:last-child::after {align-self: flex-start;width: 50%;}#sk-container-id-6 div.sk-parallel-item:only-child::after {width: 0;}#sk-container-id-6 div.sk-dashed-wrapped {border: 1px dashed gray;margin: 0 0.4em 0.5em 0.4em;box-sizing: border-box;padding-bottom: 0.4em;background-color: white;}#sk-container-id-6 div.sk-label label {font-family: monospace;font-weight: bold;display: inline-block;line-height: 1.2em;}#sk-container-id-6 div.sk-label-container {text-align: center;}#sk-container-id-6 div.sk-container {/* jupyter's `normalize.less` sets `[hidden] { display: none; }` but bootstrap.min.css set `[hidden] { display: none !important; }` so we also need the `!important` here to be able to override the default hidden behavior on the sphinx rendered scikit-learn.org. See: https://github.com/scikit-learn/scikit-learn/issues/21755 */display: inline-block !important;position: relative;}#sk-container-id-6 div.sk-text-repr-fallback {display: none;}</style><div id=\"sk-container-id-6\" class=\"sk-top-container\"><div class=\"sk-text-repr-fallback\"><pre>LogisticRegression()</pre><b>In a Jupyter environment, please rerun this cell to show the HTML representation or trust the notebook. <br />On GitHub, the HTML representation is unable to render, please try loading this page with nbviewer.org.</b></div><div class=\"sk-container\" hidden><div class=\"sk-item\"><div class=\"sk-estimator sk-toggleable\"><input class=\"sk-toggleable__control sk-hidden--visually\" id=\"sk-estimator-id-11\" type=\"checkbox\" checked><label for=\"sk-estimator-id-11\" class=\"sk-toggleable__label sk-toggleable__label-arrow\">LogisticRegression</label><div class=\"sk-toggleable__content\"><pre>LogisticRegression()</pre></div></div></div></div></div>"
      ],
      "text/plain": [
       "LogisticRegression()"
      ]
     },
     "execution_count": 39,
     "metadata": {},
     "output_type": "execute_result"
    }
   ],
   "source": [
    "# Create a (probabilistic) model for the title and text columns\n",
    "model1 = LogisticRegression()\n",
    "\n",
    "# model1 is trained on title data, model2 is trained on text data\n",
    "model1.fit(X_train_title_tfidf, y_train['label'])\n",
    "model.fit(X_train_tfidf, y_train['label'])"
   ]
  },
  {
   "cell_type": "code",
   "execution_count": 40,
   "metadata": {},
   "outputs": [
    {
     "name": "stdout",
     "output_type": "stream",
     "text": [
      "Accuracy for title: 0.812\n",
      "Accuracy for text: 0.919\n"
     ]
    }
   ],
   "source": [
    "# Evaluate the models\n",
    "y_pred_title = model1.predict(X_test_title_tfidf)\n",
    "y_pred_text = model.predict(X_test_tfidf)\n",
    "\n",
    "accuracy_title = accuracy_score(y_test, y_pred_title)\n",
    "accuracy_text = accuracy_score(y_test, y_pred_text)\n",
    "\n",
    "print(f\"Accuracy for title: {round(accuracy_title, 3)}\")\n",
    "print(f\"Accuracy for text: {round(accuracy_text, 3)}\")"
   ]
  },
  {
   "cell_type": "markdown",
   "metadata": {},
   "source": [
    "The predictive ability of model1 is lower, although it remains surprisingly close to that obtained before. Let us now add up the contributions of the two models by applying a simple weighted average, where the class probability is computed as:\n",
    "$$p(C=c) = \\frac{w_1\\cdot p_1(c) + w_2\\cdot p_2(c)}{w_1 + w_2}$$\n",
    "where $w_i$ is the weight associated to model $i$ and $p_i(c)$ is the probability predicted by model $i$ for the class $c$."
   ]
  },
  {
   "cell_type": "code",
   "execution_count": 41,
   "metadata": {},
   "outputs": [
    {
     "data": {
      "image/png": "[encoded data removed]",
      "text/plain": [
       "<Figure size 800x500 with 1 Axes>"
      ]
     },
     "metadata": {},
     "output_type": "display_data"
    }
   ],
   "source": [
    "# Build a plot to visualize the effect of the weight on the title model\n",
    "import numpy as np\n",
    "from sklearn.metrics import recall_score, precision_score\n",
    "\n",
    "# Fix the text model weight to 1\n",
    "text_weight = 1.\n",
    "# Get the probabilities for the title and text models\n",
    "title_proba = model1.predict_proba(X_test_title_tfidf)\n",
    "text_proba = model.predict_proba(X_test_tfidf)\n",
    "\n",
    "title_weights = np.linspace(0, 1, 100)\n",
    "accuracies = []\n",
    "recalls = []\n",
    "precisions = []\n",
    "for title_weight in title_weights:\n",
    "    predicted_proba = title_weight * title_proba + text_weight * text_proba\n",
    "    y_pred = predicted_proba.argmax(axis=1)\n",
    "    accuracies.append(accuracy_score(y_test, y_pred))\n",
    "    recalls.append(recall_score(y_test, y_pred))\n",
    "    precisions.append(precision_score(y_test, y_pred))\n",
    "\n",
    "plt.figure(figsize=(8, 5))\n",
    "plt.plot(title_weights, accuracies, label='Accuracy')\n",
    "plt.plot(title_weights, recalls, label='Recall')\n",
    "plt.plot(title_weights, precisions, label='Precision')\n",
    "plt.xlabel('Title Weight')\n",
    "plt.ylabel('Score')\n",
    "plt.legend()\n",
    "plt.grid(linestyle='--', alpha=0.3)\n",
    "# Draw a line to indicate the point where accuracy and recall are maximized and precision is higher than the starting point\n",
    "plt.axvline(x=0.07, color='red', linestyle='--')\n",
    "plt.show();"
   ]
  },
  {
   "cell_type": "markdown",
   "metadata": {},
   "source": [
    "Accuracy and Recall are dominated by the complete model, so it is basically better to choose the naive combination of titles with texts.\n",
    "Only Precision has the peak for $w_t \\neq 0$: this means that, albeit partially, the title analysis can better distinguish TPs from FPs.\n",
    "\n",
    "#### 2.3 Hyperparameter Tuning\n",
    "Before trying out other models, we can improve the simple Logistic Regression by setting different hyperparameter values.\\\n",
    "We will perform a **Grid Search** and use a pipeline to streamline the process of fitting and transforming the data. We use the following parameters:\n",
    "- `tfidf_max_features` is \n",
    "- `tfidf_ngram_range = (a, b)`: we consider the n-grams from value a up to value b, \n",
    "- `logistic_c` is the inverse regularization strenght: lower values mean stronger regularization (remember the regularized loss function),\n",
    "- `logistic_penalty` is the type of regularization, either `l2`, which tends to *shrink* the weights towards 0, or `l1`, which tends to *set* the weights to 0 (more strict).\n",
    "\n",
    "The regressor's argument `max_iter` determines the maximum number of iterations to wait for convergence."
   ]
  },
  {
   "cell_type": "code",
   "execution_count": 42,
   "metadata": {},
   "outputs": [],
   "source": [
    "import os\n",
    "# Import the sklearn library\n",
    "from sklearn.model_selection import GridSearchCV\n",
    "\n",
    "# Define a dictionary with the hyperparameter values: use double underscores to identify the parameters for the different models\n",
    "param_grid = {\n",
    "    'tfidf__max_features': [10000, 20000, 30000, 50000],\n",
    "    'tfidf__ngram_range': [(1, 1), (1, 2), (1, 3)],\n",
    "    'logistic__C': [0.01, 0.1, 1, 10, 100],\n",
    "    'logistic__penalty': ['l1', 'l2']\n",
    "}\n",
    "\n",
    "# Define the pipeline\n",
    "from sklearn.pipeline import Pipeline\n",
    "pipeline = Pipeline([\n",
    "    ('tfidf', TfidfVectorizer()),\n",
    "    ('logistic', LogisticRegression(max_iter=1000))\n",
    "])\n",
    "\n",
    "# Since the fitting process is computationally expensive, we will do it only if we do not have the results saved\n",
    "if not os.path.exists('models/logreg_best_model.pkl'):\n",
    "    # Initialize the GridSearchCV object, with n_jobs=-1 to use all available cores and cv to use 3-fold cross-validation\n",
    "    grid_search = GridSearchCV(pipeline, param_grid, n_jobs=-1, cv=3, verbose=3)\n",
    "\n",
    "    # Fit the GridSearchCV object on the combined data: notice that we give the combined column as input, not the vectorized data\n",
    "    grid_search.fit(X_train['combined'], y_train['label'])\n",
    "    logreg_best_model = grid_search.best_estimator_\n",
    "\n",
    "    # Save the best model using joblib\n",
    "    import joblib\n",
    "    joblib.dump(grid_search.best_estimator_, 'models/logreg_best_model.pkl')\n",
    "    \n",
    "else:\n",
    "    # Load the best model using joblib\n",
    "    logreg_best_model = joblib.load('models/logreg_best_model.pkl')"
   ]
  },
  {
   "cell_type": "code",
   "execution_count": 43,
   "metadata": {},
   "outputs": [
    {
     "name": "stdout",
     "output_type": "stream",
     "text": [
      "Accuracy: 0.939\n",
      "Classification Report:\n",
      "              precision    recall  f1-score   support\n",
      "\n",
      "           0       0.94      0.94      0.94       639\n",
      "           1       0.94      0.94      0.94       620\n",
      "\n",
      "    accuracy                           0.94      1259\n",
      "   macro avg       0.94      0.94      0.94      1259\n",
      "weighted avg       0.94      0.94      0.94      1259\n",
      "\n",
      "Confusion Matrix:\n"
     ]
    },
    {
     "data": {
      "image/png": "[encoded data removed]",
      "text/plain": [
       "<Figure size 400x400 with 2 Axes>"
      ]
     },
     "metadata": {},
     "output_type": "display_data"
    }
   ],
   "source": [
    "# Evaluate the best model\n",
    "# Predict on the test data: since the best model pipeline includes the vectorizer, we should give the combined column as input\n",
    "y_pred = logreg_best_model.predict(X_test['combined'])\n",
    "\n",
    "accuracy = accuracy_score(y_test, y_pred)\n",
    "report = classification_report(y_test, y_pred)\n",
    "conf_matrix = confusion_matrix(y_test, y_pred)\n",
    "\n",
    "print(f\"Accuracy: {round(accuracy, 3)}\")\n",
    "print(\"Classification Report:\")\n",
    "print(report)\n",
    "print(\"Confusion Matrix:\")\n",
    "\n",
    "# Plot the confusion matrix\n",
    "import matplotlib.pyplot as plt\n",
    "import seaborn as sns\n",
    "\n",
    "plt.figure(figsize=(4, 4))\n",
    "sns.heatmap(conf_matrix, annot=True)\n",
    "plt.xlabel('Predicted')\n",
    "plt.ylabel('Truth')\n",
    "plt.show();"
   ]
  },
  {
   "cell_type": "code",
   "execution_count": 44,
   "metadata": {},
   "outputs": [
    {
     "name": "stdout",
     "output_type": "stream",
     "text": [
      "Best logistic__C = 100\n",
      "Best logistic__penalty = l2\n",
      "Best tfidf__max_features = 50000\n",
      "Best tfidf__ngram_range = (1, 2)\n"
     ]
    }
   ],
   "source": [
    "# Print the best hyperparameter combination\n",
    "for key in grid_search.best_params_:\n",
    "    print(f'Best {key} = {grid_search.best_params_[key]}')"
   ]
  },
  {
   "cell_type": "markdown",
   "metadata": {},
   "source": [
    "We therefore achieved an increase of about 2 percentage points on accuracy and F1 score. We keep this model as a reference for the next section.\n",
    "#### 2.4 Model Selection\n",
    "Logistic Regression is certainly a model that is easy to interpret, fast and efficient even on large datasets as in this case. However, it is a linear model which, in the case of complex data as in this case, may miss some important details. Below, I list the models we are going to test and the features that might be useful here.\n",
    "\n",
    "\n",
    "**SVM**: support vector machines are great to classify in spaces with many features (high dimensions) since they effectively create sets of hyperplanes in high-dimensional spaces. They can also handle quite well the *sparsity* of text data.\n",
    "\n",
    "**Random Forest**: this is a non-linear model which, due to its ‘ensemble’ nature, manages to significantly reduce the risk of overfitting.\n",
    "\n",
    "**Naive Bayes**: the assumption of independence between the data proves particularly effective in text classification problems, together with the excellent handling of data sparsity. This is one of the most widely used algorithms in this context, and is also quite simple in terms of implementation.\n",
    "\n",
    "**MLP**: this simple NN is very effective in handling high-dimensional sparse data.\n",
    "\n",
    "To achieve this comparison, we proceed to construct a new \"pipeline\", using different models."
   ]
  },
  {
   "cell_type": "code",
   "execution_count": 54,
   "metadata": {},
   "outputs": [
    {
     "name": "stdout",
     "output_type": "stream",
     "text": [
      "Finished training svm.\n",
      "Time = 89.16 seconds.\n",
      "\n",
      "Finished training random_forest.\n",
      "Time = 13.05 seconds.\n",
      "\n",
      "Finished training naive_bayes.\n",
      "Time = 0.04 seconds.\n",
      "\n",
      "Finished training neural_network.\n",
      "Time = 80.17 seconds.\n",
      "\n"
     ]
    }
   ],
   "source": [
    "import time\n",
    "from tqdm import tqdm\n",
    "from sklearn.svm import SVC\n",
    "from sklearn.ensemble import RandomForestClassifier\n",
    "from sklearn.naive_bayes import MultinomialNB\n",
    "from sklearn.neural_network import MLPClassifier\n",
    "\n",
    "# Define the model dictionary\n",
    "models = {\n",
    "    'svm': SVC(),\n",
    "    'random_forest': RandomForestClassifier(),\n",
    "    'naive_bayes': MultinomialNB(),\n",
    "    'neural_network': MLPClassifier()\n",
    "}\n",
    "\n",
    "# Initialize the results dictionary\n",
    "results = {}\n",
    "\n",
    "for name, model in models.items():\n",
    "    # Start the timer\n",
    "    start = time.time()\n",
    "    # Fit the model with the vectorized data\n",
    "    model.fit(X_train_tfidf, y_train['label'])\n",
    "    # Predict on the train data to find which model overfits the most\n",
    "    y_pred_train = model.predict(X_train_tfidf)\n",
    "    # Predict on the test data\n",
    "    y_pred = model.predict(X_test_tfidf)\n",
    "    # Calculate the accuracy\n",
    "    accuracy = accuracy_score(y_test, y_pred)\n",
    "    # Save the results\n",
    "    results[name] = {   \n",
    "                    'accuracy': accuracy,\n",
    "                    'train_accuracy': accuracy_score(y_train, y_pred_train),\n",
    "                    'difference': accuracy - accuracy_score(y_train, y_pred_train),\n",
    "                    'report': classification_report(y_test, y_pred),\n",
    "                    'confusion_matrix': confusion_matrix(y_test, y_pred)\n",
    "                     }\n",
    "    # End the timer\n",
    "    end = time.time()\n",
    "    # Print the time elapsed\n",
    "    print(f'Finished training {name}.\\nTime = {round(end-start, 2)} seconds.\\n')\n",
    "    "
   ]
  },
  {
   "cell_type": "code",
   "execution_count": 56,
   "metadata": {},
   "outputs": [
    {
     "name": "stdout",
     "output_type": "stream",
     "text": [
      "Results for svm:\n",
      "Accuracy: 0.932\n",
      "Train Accuracy: 0.996\n",
      "Difference: -0.065\n",
      "Classification Report:\n",
      "              precision    recall  f1-score   support\n",
      "\n",
      "           0       0.95      0.92      0.93       639\n",
      "           1       0.92      0.95      0.93       620\n",
      "\n",
      "    accuracy                           0.93      1259\n",
      "   macro avg       0.93      0.93      0.93      1259\n",
      "weighted avg       0.93      0.93      0.93      1259\n",
      "\n",
      "Confusion Matrix:\n",
      "[[587  52]\n",
      " [ 34 586]]\n",
      "\n",
      "Results for random_forest:\n",
      "Accuracy: 0.912\n",
      "Train Accuracy: 1.0\n",
      "Difference: -0.088\n",
      "Classification Report:\n",
      "              precision    recall  f1-score   support\n",
      "\n",
      "           0       0.91      0.92      0.91       639\n",
      "           1       0.91      0.91      0.91       620\n",
      "\n",
      "    accuracy                           0.91      1259\n",
      "   macro avg       0.91      0.91      0.91      1259\n",
      "weighted avg       0.91      0.91      0.91      1259\n",
      "\n",
      "Confusion Matrix:\n",
      "[[586  53]\n",
      " [ 58 562]]\n",
      "\n",
      "Results for naive_bayes:\n",
      "Accuracy: 0.895\n",
      "Train Accuracy: 0.92\n",
      "Difference: -0.025\n",
      "Classification Report:\n",
      "              precision    recall  f1-score   support\n",
      "\n",
      "           0       0.91      0.89      0.90       639\n",
      "           1       0.88      0.90      0.89       620\n",
      "\n",
      "    accuracy                           0.90      1259\n",
      "   macro avg       0.90      0.90      0.90      1259\n",
      "weighted avg       0.90      0.90      0.90      1259\n",
      "\n",
      "Confusion Matrix:\n",
      "[[566  73]\n",
      " [ 59 561]]\n",
      "\n",
      "Results for neural_network:\n",
      "Accuracy: 0.936\n",
      "Train Accuracy: 1.0\n",
      "Difference: -0.064\n",
      "Classification Report:\n",
      "              precision    recall  f1-score   support\n",
      "\n",
      "           0       0.93      0.94      0.94       639\n",
      "           1       0.94      0.93      0.93       620\n",
      "\n",
      "    accuracy                           0.94      1259\n",
      "   macro avg       0.94      0.94      0.94      1259\n",
      "weighted avg       0.94      0.94      0.94      1259\n",
      "\n",
      "Confusion Matrix:\n",
      "[[602  37]\n",
      " [ 44 576]]\n",
      "\n"
     ]
    }
   ],
   "source": [
    "# Print the results\n",
    "for name in results:\n",
    "    print(f\"Results for {name}:\")\n",
    "    print(f\"Accuracy: {round(results[name]['accuracy'], 3)}\")\n",
    "    print(f\"Train Accuracy: {round(results[name]['train_accuracy'], 3)}\")\n",
    "    print(f\"Difference: {round(results[name]['difference'], 3)}\")\n",
    "    print(\"Classification Report:\")\n",
    "    print(results[name]['report'])\n",
    "    print(\"Confusion Matrix:\")\n",
    "    print(results[name]['confusion_matrix'])\n",
    "    print()"
   ]
  },
  {
   "cell_type": "code",
   "execution_count": null,
   "metadata": {},
   "outputs": [],
   "source": [
    "# How much does the best logreg model overfit?\n",
    "logreg_best_model.fit(X_train['combined'], y_train['label'])\n",
    "y_pred_train = logreg_best_model.predict(X_train['combined'])\n",
    "y_pred = logreg_best_model.predict(X_test['combined'])\n",
    "\n",
    "train_accuracy = accuracy_score(y_train, y_pred_train)\n",
    "test_accuracy = accuracy_score(y_test, y_pred)\n",
    "\n",
    "print(f'Train accuracy: {round(train_accuracy, 3)}')\n",
    "print(f'Test accuracy: {round(test_accuracy, 3)}')\n",
    "print(f'Difference: {round(test_accuracy - train_accuracy, 3)}')"
   ]
  },
  {
   "cell_type": "markdown",
   "metadata": {},
   "source": [
    "We therefore conclude that the best model turns out to be the **Multi-Layer Perceptron**, with a result very close to the best configuration of Logistic Regression. However, the neural network is weaker in correctly identifying TPs, as shown in the confusion matrix. \n",
    "\n",
    "Given the very short training time for Naive Bayes, coupled with the fact that it is the model that overfills the least, it is worthwhile to perform a grid search with this model, to assess a possible improvement.\\\n",
    "The parameter `alpha` represents a smoothing prior, accounting for features that are not present in the learning samples and prevent zero probabilities. NB estimates the parameters $\\theta_y$ with a smoothed version of MLE:\n",
    "$$\\hat{\\theta}_{y_i} = \\frac{N_{y_i}+\\alpha}{N_y+\\alpha n}$$ \n",
    "where $N_{y_i} = \\sum_{x\\in T}x_i$ is the number of times feature $i$ appears in a sample of class $y$ in the training set $T$, and $N_y = \\sum^n_{i=1}N_{y_i}$ is the total count of all features for class $y$."
   ]
  },
  {
   "cell_type": "code",
   "execution_count": 58,
   "metadata": {},
   "outputs": [
    {
     "name": "stdout",
     "output_type": "stream",
     "text": [
      "Fitting 3 folds for each of 60 candidates, totalling 180 fits\n"
     ]
    }
   ],
   "source": [
    "# Define a dictionary with the hyperparameter values: use double underscores to identify the parameters for the different models\n",
    "param_grid = {\n",
    "    'tfidf__max_features': [10000, 20000, 30000, 50000],\n",
    "    'tfidf__ngram_range': [(1, 1), (1, 2), (1, 3)],\n",
    "    'nb__alpha': [0.01, 1.0, 2.0, 10.0, 100.0]\n",
    "}\n",
    "\n",
    "# Define the pipeline\n",
    "from sklearn.pipeline import Pipeline\n",
    "pipeline = Pipeline([\n",
    "    ('tfidf', TfidfVectorizer()),\n",
    "    ('nb', MultinomialNB())\n",
    "])\n",
    "\n",
    "# Since the fitting process is computationally expensive, we will do it only if we do not have the results saved\n",
    "if not os.path.exists('models/nb_best_model.pkl'):\n",
    "    # Initialize the GridSearchCV object, with n_jobs=-1 to use all available cores and cv to use 3-fold cross-validation\n",
    "    grid_search = GridSearchCV(pipeline, param_grid, n_jobs=-1, cv=3, verbose=3)\n",
    "\n",
    "    # Fit the GridSearchCV object on the combined data: notice that we give the combined column as input, not the vectorized data\n",
    "    grid_search.fit(X_train['combined'], y_train['label'])\n",
    "    nb_best_model = grid_search.best_estimator_\n",
    "\n",
    "    # Save the best model using joblib\n",
    "    import joblib\n",
    "    joblib.dump(grid_search.best_estimator_, 'models/nb_best_model.pkl')\n",
    "    \n",
    "else:\n",
    "    # Load the best model using joblib\n",
    "    nb_best_model = joblib.load('models/nb_best_model.pkl')"
   ]
  },
  {
   "cell_type": "code",
   "execution_count": 59,
   "metadata": {},
   "outputs": [
    {
     "name": "stdout",
     "output_type": "stream",
     "text": [
      "Accuracy: 0.911\n",
      "Classification Report:\n",
      "              precision    recall  f1-score   support\n",
      "\n",
      "           0       0.91      0.92      0.91       639\n",
      "           1       0.92      0.90      0.91       620\n",
      "\n",
      "    accuracy                           0.91      1259\n",
      "   macro avg       0.91      0.91      0.91      1259\n",
      "weighted avg       0.91      0.91      0.91      1259\n",
      "\n",
      "Confusion Matrix:\n"
     ]
    },
    {
     "data": {
      "image/png": "[encoded data removed]",
      "text/plain": [
       "<Figure size 400x400 with 2 Axes>"
      ]
     },
     "metadata": {},
     "output_type": "display_data"
    }
   ],
   "source": [
    "# Evaluate the best NB model\n",
    "# Predict on the test data: since the best model pipeline includes the vectorizer, we should give the combined column as input\n",
    "y_pred = nb_best_model.predict(X_test['combined'])\n",
    "\n",
    "accuracy = accuracy_score(y_test, y_pred)\n",
    "report = classification_report(y_test, y_pred)\n",
    "conf_matrix = confusion_matrix(y_test, y_pred)\n",
    "\n",
    "print(f\"Accuracy: {round(accuracy, 3)}\")\n",
    "print(\"Classification Report:\")\n",
    "print(report)\n",
    "print(\"Confusion Matrix:\")\n",
    "\n",
    "# Plot the confusion matrix\n",
    "plt.figure(figsize=(4, 4))\n",
    "sns.heatmap(conf_matrix, annot=True)\n",
    "plt.xlabel('Predicted')\n",
    "plt.ylabel('Truth')\n",
    "plt.show();"
   ]
  },
  {
   "cell_type": "markdown",
   "metadata": {},
   "source": [
    "We improved the performance of the Naive Bayes classifier, but it still remains below that achieved by the Logistic Regressor. Why?\\\n",
    "Although there are several possible explanations related to the mathematical differences between the two algorithms, in the context of fake news detection the plausible reasons are as follows:\n",
    "1. NB is an extremely simple model, which may not fully capture the complexity of some of these texts. Also noteworthy is the low possibility of regularisation, from which LR draws a significant advantage.\n",
    "2. NB's assumption is very strong, which is why it is very powerful with truly independent data. Instead, we know that there is a correlation between the words in the text, albeit limited. Especially in the context of news, we have noticed that there are very recurrent n-grams, an aspect that cannot be overlooked.\n",
    "3. NB tends to be strongly influenced by rare data (words). In the previous notebook, we discussed the importance of recognising the most relevant words and ‘neglecting’ the contribution of rarer ones through TFIDF vectorization.\n",
    "\n",
    "In conclusion, a classifier that is simple and quick to train is sufficient for this project: **Logistic Regression**."
   ]
  }
 ],
 "metadata": {
  "kernelspec": {
   "display_name": "Python 3",
   "language": "python",
   "name": "python3"
  },
  "language_info": {
   "codemirror_mode": {
    "name": "ipython",
    "version": 3
   },
   "file_extension": ".py",
   "mimetype": "text/x-python",
   "name": "python",
   "nbconvert_exporter": "python",
   "pygments_lexer": "ipython3",
   "version": "3.11.3"
  }
 },
 "nbformat": 4,
 "nbformat_minor": 2
}
